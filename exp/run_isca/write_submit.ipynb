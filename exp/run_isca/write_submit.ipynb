{
 "cells": [
  {
   "cell_type": "code",
   "execution_count": null,
   "metadata": {},
   "outputs": [],
   "source": [
    "import os\n",
    "root = f\"/work/home/ac9b0k6rio/isca_17/Isca/exp/run_isca\""
   ]
  },
  {
   "cell_type": "code",
   "execution_count": null,
   "metadata": {},
   "outputs": [],
   "source": [
    "example_py_file = os.path.join(root,f\"t1b_1e3pa_1e0co.py\") # write a general example file later\n",
    "example_sh_file = os.path.join(root,f\"submit.sh\")\n",
    "\n",
    "case_name = \"t1b_1e3pa_1e0co_add_var\"\n",
    "py_file = os.path.join(root,f\"{case_name}.py\")\n",
    "sh_file = os.path.join(root,f\"submit_{case_name}.sh\")\n",
    "os.system(f\"cp {example_py_file} {py_file}\")\n",
    "os.system(f\"cp {example_sh_file} {sh_file}\")"
   ]
  },
  {
   "cell_type": "code",
   "execution_count": null,
   "metadata": {},
   "outputs": [],
   "source": [
    "# modify the files\n",
    "new_spec_file_path = None\n",
    "with open(py_file, 'r', encoding='utf-8') as file:\n",
    "    py_lines = file.readlines()\n",
    "for i, line in enumerate(py_lines):\n",
    "    # modify spectral file\n",
    "    if new_spec_file_path != None and line.lstrip().startswith('spec_file = '):\n",
    "        indent = line[:line.find('spec_file = ')] \n",
    "        py_lines[i] = f\"{indent}spec_file = \\\"{new_spec_file_path}\\\"\\n\"\n",
    "    # \n",
    "# (optional) copy restart files\n"
   ]
  },
  {
   "cell_type": "code",
   "execution_count": null,
   "metadata": {},
   "outputs": [],
   "source": [
    "# submit the script"
   ]
  },
  {
   "cell_type": "code",
   "execution_count": null,
   "metadata": {},
   "outputs": [],
   "source": [
    "# delete the files"
   ]
  }
 ],
 "metadata": {
  "language_info": {
   "name": "python"
  }
 },
 "nbformat": 4,
 "nbformat_minor": 2
}
